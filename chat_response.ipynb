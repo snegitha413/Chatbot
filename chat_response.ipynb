{
 "cells": [
  {
   "cell_type": "code",
   "execution_count": 2,
   "id": "334caefe",
   "metadata": {},
   "outputs": [],
   "source": [
    "import nltk\n",
    "from nltk.stem import WordNetLemmatizer\n",
    "import pickle\n",
    "import numpy as np\n",
    "from keras.models import load_model\n",
    "import json\n",
    "import random\n",
    "import os\n",
    "lemmatizer = WordNetLemmatizer()\n"
   ]
  },
  {
   "cell_type": "code",
   "execution_count": 3,
   "id": "19da5d25",
   "metadata": {},
   "outputs": [],
   "source": [
    "\n",
    "intents = json.loads(open('intents.json', encoding=\"utf8\").read())\n",
    "words = pickle.load(open('words.pkl','rb'))\n",
    "classes = pickle.load(open('classes.pkl','rb'))\n",
    "model = load_model(f'chatbot_model.h5')"
   ]
  },
  {
   "cell_type": "code",
   "execution_count": 4,
   "id": "b62ce0ab",
   "metadata": {},
   "outputs": [],
   "source": [
    "def clean_up_sentence(sentence):\n",
    "    \n",
    "    # tokenize input pattern - split words into array\n",
    "    sentence_words = nltk.word_tokenize(sentence)\n",
    "    \n",
    "    # stem each word - create short form for word\n",
    "    sentence_words = [lemmatizer.lemmatize(word.lower()) for word in sentence_words]\n",
    "    \n",
    "    return sentence_words\n",
    "    "
   ]
  },
  {
   "cell_type": "code",
   "execution_count": 5,
   "id": "e2b34bdd",
   "metadata": {},
   "outputs": [],
   "source": [
    "# return bag of words array: 0 or 1 for each word in the bag that exists in the sentence\n",
    "def bow(sentence, words, show_details=True):\n",
    "    \n",
    "    # tokenize the pattern\n",
    "    sentence_words = clean_up_sentence(sentence)\n",
    "    \n",
    "    # bag of words - matrix of N words, vocabulary matrix\n",
    "    bag = [0]*len(words)\n",
    "    \n",
    "    for s in sentence_words:\n",
    "        for i,w in enumerate(words):\n",
    "            if w == s: \n",
    "                # assign 1 if current word is in the vocabulary position\n",
    "                bag[i] = 1\n",
    "                if show_details:\n",
    "                    print (\"found in bag: %s\" % w)\n",
    "                    \n",
    "    return(np.array(bag))\n"
   ]
  },
  {
   "cell_type": "code",
   "execution_count": 6,
   "id": "071fb1a1",
   "metadata": {},
   "outputs": [],
   "source": [
    "\n",
    "def predict_class(sentence, model):\n",
    "    \n",
    "    # filter out predictions below a threshold\n",
    "    p = bow(sentence, words,show_details=False)\n",
    "    res = model.predict(np.array([p]))[0]\n",
    "    ERROR_THRESHOLD = 0.25\n",
    "    results = [[i,r] for i,r in enumerate(res) if r>ERROR_THRESHOLD]\n",
    "    \n",
    "    # sort by strength of probability\n",
    "    results.sort(key=lambda x: x[1], reverse=True)\n",
    "    return_list = []\n",
    "    \n",
    "    for r in results:\n",
    "        return_list.append({\"intent\": classes[r[0]], \"probability\": str(r[1])})\n",
    "    \n",
    "    return return_list"
   ]
  },
  {
   "cell_type": "code",
   "execution_count": 7,
   "id": "a49d0bea",
   "metadata": {},
   "outputs": [],
   "source": [
    "\n",
    "def getResponse(ints, intents_json):\n",
    "    tag = ints[0]['intent']\n",
    "    list_of_intents = intents_json['intents']\n",
    "    for i in list_of_intents:\n",
    "        if(i['tag']== tag):\n",
    "            result = random.choice(i['responses'])\n",
    "            break\n",
    "    return result\n",
    "\n",
    "def chatbot_response(text):\n",
    "    ints = predict_class(text, model)\n",
    "    res = getResponse(ints, intents)\n",
    "    return res"
   ]
  },
  {
   "cell_type": "code",
   "execution_count": 8,
   "id": "306b9edd",
   "metadata": {},
   "outputs": [],
   "source": [
    "import tkinter\n",
    "from tkinter import *\n",
    "\n",
    "# send function: add entry to chat window and get chatbot response\n",
    "def send():\n",
    "    # get written message and save to variable\n",
    "    msg = EntryBox.get(\"1.0\",'end-1c').strip()\n",
    "    # remove message from entry box\n",
    "    EntryBox.delete(\"0.0\",END)\n",
    "    \n",
    "    if msg == \"Message\":\n",
    "        # if the user clicks send before entering their own message, \"Message\" gets inserted again\n",
    "        # no prediction/response\n",
    "        EntryBox.insert(END, \"Message\")\n",
    "        pass\n",
    "        # if user clicks send and proper entry\n",
    "    elif msg != '':\n",
    "        # activate chat window and insert message\n",
    "        ChatLog.config(state=NORMAL)\n",
    "        ChatLog.insert(END, \"You: \" + msg + '\\n\\n')\n",
    "        ChatLog.config(foreground=\"black\", font=(\"Verdana\", 12 ))\n",
    "        \n",
    "        # insert bot response to chat window\n",
    "        res = chatbot_response(msg)\n",
    "        ChatLog.insert(END, \"BOT: \" + res + '\\n\\n')\n",
    "        \n",
    "        # make window read-only again\n",
    "        ChatLog.config(state=DISABLED)\n",
    "        ChatLog.yview(END)\n",
    "\n",
    "def clear_search(event):\n",
    "    EntryBox.delete(\"0.0\",END)\n",
    "    EntryBox.config(foreground=\"black\", font=(\"Verdana\", 12))"
   ]
  },
  {
   "cell_type": "code",
   "execution_count": 9,
   "id": "12ca2dee",
   "metadata": {},
   "outputs": [
    {
     "name": "stdout",
     "output_type": "stream",
     "text": [
      "1/1 [==============================] - 0s 81ms/step\n"
     ]
    }
   ],
   "source": [
    "base = Tk()\n",
    "base.title(\"Chatbot\")\n",
    "base.geometry(\"400x500\")\n",
    "base.resizable(width=FALSE, height=FALSE)\n",
    "\n",
    "# create chat window\n",
    "ChatLog = Text(base, bd=0, bg=\"white\", height=\"8\", width=\"50\", font=\"Arial\",)\n",
    "\n",
    "# initial greeting in chat window\n",
    "ChatLog.config(foreground=\"black\", font=(\"Verdana\", 12 ))\n",
    "ChatLog.insert(END, \"BOT:வணக்கம்\")\n",
    "\n",
    "# disable window = read-only\n",
    "ChatLog.config(state=DISABLED)\n",
    "\n",
    "# bind scrollbar to ChatLog window\n",
    "scrollbar = Scrollbar(base, command=ChatLog.yview, cursor=\"dot\")\n",
    "ChatLog['yscrollcommand'] = scrollbar.set\n",
    "\n",
    "# create Button to send message\n",
    "SendButton = Button(base, font=(\"Verdana\",12,'bold'), text=\"Send\", width=\"9\", height=5,\n",
    "                    bd=0, bg=\"lightblue\", activebackground=\"cyan\",fg='#ffffff',\n",
    "                    command= send )\n",
    "\n",
    "# create the box to enter message\n",
    "EntryBox = Text(base, bd=0, bg=\"white\",width=\"29\", height=\"5\", font=\"Arial\")\n",
    "\n",
    "# display a grey text in EntryBox that's removed upon clicking or tab focus\n",
    "EntryBox.insert(END, \"Message\")\n",
    "EntryBox.config(foreground=\"grey\", font=(\"Verdana\", 12))\n",
    "EntryBox.bind(\"<Button-1>\", clear_search)\n",
    "EntryBox.bind(\"<FocusIn>\", clear_search) \n",
    "\n",
    "# place components at given coordinates in window (x=0 y=0 top left corner)\n",
    "scrollbar.place(x=376,y=6, height=386)\n",
    "ChatLog.place(x=6,y=6, height=386, width=370)\n",
    "EntryBox.place(x=6, y=401, height=90, width=265)\n",
    "SendButton.place(x=282, y=401, height=90)\n",
    "\n",
    "base.mainloop()"
   ]
  },
  {
   "cell_type": "code",
   "execution_count": null,
   "id": "51036d21",
   "metadata": {},
   "outputs": [],
   "source": []
  }
 ],
 "metadata": {
  "kernelspec": {
   "display_name": "Python 3",
   "language": "python",
   "name": "python3"
  },
  "language_info": {
   "codemirror_mode": {
    "name": "ipython",
    "version": 3
   },
   "file_extension": ".py",
   "mimetype": "text/x-python",
   "name": "python",
   "nbconvert_exporter": "python",
   "pygments_lexer": "ipython3",
   "version": "3.8.8"
  }
 },
 "nbformat": 4,
 "nbformat_minor": 5
}
